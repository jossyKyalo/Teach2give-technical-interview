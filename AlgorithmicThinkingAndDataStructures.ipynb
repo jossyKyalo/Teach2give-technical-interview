{
  "nbformat": 4,
  "nbformat_minor": 0,
  "metadata": {
    "colab": {
      "provenance": []
    },
    "kernelspec": {
      "name": "python3",
      "display_name": "Python 3"
    },
    "language_info": {
      "name": "python"
    }
  },
  "cells": [
    {
      "cell_type": "code",
      "execution_count": null,
      "metadata": {
        "colab": {
          "base_uri": "https://localhost:8080/"
        },
        "id": "ZrCNdjcRYORB",
        "outputId": "2cd946af-8137-4a13-b9f7-ab28732280d8"
      },
      "outputs": [
        {
          "output_type": "stream",
          "name": "stdout",
          "text": [
            "Hello World\n"
          ]
        }
      ],
      "source": [
        "def capitalize_words(input_string):\n",
        "    words = input_string.split()\n",
        "    capitalized_words = [word.capitalize() for word in words]\n",
        "    capitalized_string = ' '.join(capitalized_words)\n",
        "    return capitalized_string\n",
        "\n",
        "#test case\n",
        "print(capitalize_words(\"hello world\"))"
      ]
    }
  ]
}